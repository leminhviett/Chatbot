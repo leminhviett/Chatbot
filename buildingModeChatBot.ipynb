{
  "nbformat": 4,
  "nbformat_minor": 0,
  "metadata": {
    "colab": {
      "name": "buildingModeChatBot.ipynb",
      "provenance": [],
      "collapsed_sections": [],
      "include_colab_link": true
    },
    "kernelspec": {
      "name": "python3",
      "display_name": "Python 3"
    }
  },
  "cells": [
    {
      "cell_type": "markdown",
      "metadata": {
        "id": "view-in-github",
        "colab_type": "text"
      },
      "source": [
        "<a href=\"https://colab.research.google.com/github/leminhviett/Chatbot/blob/master/buildingModeChatBot.ipynb\" target=\"_parent\"><img src=\"https://colab.research.google.com/assets/colab-badge.svg\" alt=\"Open In Colab\"/></a>"
      ]
    },
    {
      "cell_type": "code",
      "metadata": {
        "id": "lr9hRDNvZqAV",
        "colab_type": "code",
        "outputId": "145b74dc-d144-44d7-8f2c-e44df88acfa1",
        "colab": {
          "base_uri": "https://localhost:8080/",
          "height": 128
        }
      },
      "source": [
        "from google.colab import drive\n",
        "drive.mount('/content/drive')"
      ],
      "execution_count": 1,
      "outputs": [
        {
          "output_type": "stream",
          "text": [
            "Go to this URL in a browser: https://accounts.google.com/o/oauth2/auth?client_id=947318989803-6bn6qk8qdgf4n4g3pfee6491hc0brc4i.apps.googleusercontent.com&redirect_uri=urn%3aietf%3awg%3aoauth%3a2.0%3aoob&response_type=code&scope=email%20https%3a%2f%2fwww.googleapis.com%2fauth%2fdocs.test%20https%3a%2f%2fwww.googleapis.com%2fauth%2fdrive%20https%3a%2f%2fwww.googleapis.com%2fauth%2fdrive.photos.readonly%20https%3a%2f%2fwww.googleapis.com%2fauth%2fpeopleapi.readonly\n",
            "\n",
            "Enter your authorization code:\n",
            "··········\n",
            "Mounted at /content/drive\n"
          ],
          "name": "stdout"
        }
      ]
    },
    {
      "cell_type": "code",
      "metadata": {
        "id": "whEL6iEa8_mZ",
        "colab_type": "code",
        "colab": {}
      },
      "source": [
        "data_path = '/content/drive/My Drive/data/ChatBot/'\n",
        "\n",
        "import nltk\n",
        "from nltk.stem.lancaster import LancasterStemmer\n",
        "stemmer = LancasterStemmer()\n",
        "\n",
        "import numpy as np\n",
        "import random\n",
        "import json"
      ],
      "execution_count": 0,
      "outputs": []
    },
    {
      "cell_type": "code",
      "metadata": {
        "id": "lu5ppeL4dyz_",
        "colab_type": "code",
        "colab": {}
      },
      "source": [
        "import warnings\n",
        "warnings.filterwarnings(\"ignore\")"
      ],
      "execution_count": 0,
      "outputs": []
    },
    {
      "cell_type": "code",
      "metadata": {
        "id": "calS9ce_-8Gq",
        "colab_type": "code",
        "outputId": "e2aa4cc5-94b9-41e2-dadd-2dcbe6ab48c4",
        "colab": {
          "base_uri": "https://localhost:8080/",
          "height": 72
        }
      },
      "source": [
        "nltk.download('punkt')"
      ],
      "execution_count": 0,
      "outputs": [
        {
          "output_type": "stream",
          "text": [
            "[nltk_data] Downloading package punkt to /root/nltk_data...\n",
            "[nltk_data]   Package punkt is already up-to-date!\n"
          ],
          "name": "stdout"
        },
        {
          "output_type": "execute_result",
          "data": {
            "text/plain": [
              "True"
            ]
          },
          "metadata": {
            "tags": []
          },
          "execution_count": 30
        }
      ]
    },
    {
      "cell_type": "markdown",
      "metadata": {
        "id": "xgQIG27ZKwL_",
        "colab_type": "text"
      },
      "source": [
        "# 1. Pre-processing Data"
      ]
    },
    {
      "cell_type": "code",
      "metadata": {
        "id": "D5muM69-aGnU",
        "colab_type": "code",
        "colab": {}
      },
      "source": [
        "words = []\n",
        "labels = []\n",
        "docs_x = []\n",
        "docs_y = []\n",
        "with open(data_path + 'train.json') as file:\n",
        "    data = json.load(file)\n",
        "    for intent in data['intents']:\n",
        "      for pattern in intent['patterns']:\n",
        "        wrds = nltk.word_tokenize(pattern)\n",
        "        words.extend(wrds)\n",
        "        docs_x.append(wrds)\n",
        "        docs_y.append(intent['tag'])\n",
        "      if intent['tag'] not in labels:\n",
        "        labels.append(intent['tag'])"
      ],
      "execution_count": 0,
      "outputs": []
    },
    {
      "cell_type": "code",
      "metadata": {
        "id": "Si4Fxpdm9Un_",
        "colab_type": "code",
        "outputId": "33e6989f-9fd2-428c-c863-888b1f85b2ca",
        "colab": {
          "base_uri": "https://localhost:8080/",
          "height": 110
        }
      },
      "source": [
        "print('labels: ', labels)\n",
        "print('words: ', words)\n",
        "print('docs_x: ', docs_x)\n",
        "print('docs_y: ', docs_y)"
      ],
      "execution_count": 0,
      "outputs": [
        {
          "output_type": "stream",
          "text": [
            "labels:  ['greeting', 'goodbye', 'thanks', 'hours', 'name', 'food', 'interests', 'number', 'family', 'location']\n",
            "words:  ['Hi', 'How', 'are', 'you', 'Is', 'anyone', 'there', '?', 'Hello', 'Good', 'day', 'Bye', 'See', 'you', 'later', 'Goodbye', 'Thanks', 'Thank', 'you', 'That', \"'s\", 'helpful', 'What', 'hours', 'are', 'you', 'open', '?', 'what', 'is', 'your', 'working', 'hours', '?', 'When', 'will', 'you', 'close', '?', 'What', 'is', 'your', 'name', '?', 'How', 'can', 'I', 'call', 'you', '?', 'Do', 'you', 'have', 'a', 'name', '?', 'Who', 'are', 'you', 'What', 'do', 'you', 'eat', '?', 'Do', 'you', 'eat', 'food', '?', 'Why', 'you', 'do', \"n't\", 'eat', 'What', 'are', 'your', 'interests', 'What', 'are', 'your', 'favorite', 'subjects', 'What', 'are', 'your', 'interests', 'What', 'is', 'your', 'number', 'What', 'is', 'your', 'number', 'What', 'is', 'your', 'favorite', 'number', 'What', 'is', 'your', 'father', 'Do', 'you', 'have', 'any', 'siblings', 'Who', 'is', 'your', 'brothers', 'Where', 'are', 'you', '?', 'What', 'is', 'your', 'location', '?', 'Where', 'are', 'you', 'from', '?']\n",
            "docs_x:  [['Hi'], ['How', 'are', 'you'], ['Is', 'anyone', 'there', '?'], ['Hello'], ['Good', 'day'], ['Bye'], ['See', 'you', 'later'], ['Goodbye'], ['Thanks'], ['Thank', 'you'], ['That', \"'s\", 'helpful'], ['What', 'hours', 'are', 'you', 'open', '?'], ['what', 'is', 'your', 'working', 'hours', '?'], ['When', 'will', 'you', 'close', '?'], ['What', 'is', 'your', 'name', '?'], ['How', 'can', 'I', 'call', 'you', '?'], ['Do', 'you', 'have', 'a', 'name', '?'], ['Who', 'are', 'you'], ['What', 'do', 'you', 'eat', '?'], ['Do', 'you', 'eat', 'food', '?'], ['Why', 'you', 'do', \"n't\", 'eat'], ['What', 'are', 'your', 'interests'], ['What', 'are', 'your', 'favorite', 'subjects'], ['What', 'are', 'your', 'interests'], ['What', 'is', 'your', 'number'], ['What', 'is', 'your', 'number'], ['What', 'is', 'your', 'favorite', 'number'], ['What', 'is', 'your', 'father'], ['Do', 'you', 'have', 'any', 'siblings'], ['Who', 'is', 'your', 'brothers'], ['Where', 'are', 'you', '?'], ['What', 'is', 'your', 'location', '?'], ['Where', 'are', 'you', 'from', '?']]\n",
            "docs_y:  ['greeting', 'greeting', 'greeting', 'greeting', 'greeting', 'goodbye', 'goodbye', 'goodbye', 'thanks', 'thanks', 'thanks', 'hours', 'hours', 'hours', 'name', 'name', 'name', 'name', 'food', 'food', 'food', 'interests', 'interests', 'interests', 'number', 'number', 'number', 'family', 'family', 'family', 'location', 'location', 'location']\n"
          ],
          "name": "stdout"
        }
      ]
    },
    {
      "cell_type": "code",
      "metadata": {
        "id": "sClCVW6p_BLH",
        "colab_type": "code",
        "outputId": "f1d204dd-e0f0-4636-c360-d7de40b6db07",
        "colab": {
          "base_uri": "https://localhost:8080/",
          "height": 74
        }
      },
      "source": [
        "# stem & sort the words list\n",
        "words = [stemmer.stem(w.lower()) for w in words if w != \"?\"]\n",
        "words = sorted(list(set(words)))\n",
        "# sort the labels\n",
        "labels = sorted(labels)\n",
        "print('labels: ', labels)\n",
        "print('words: ', words)"
      ],
      "execution_count": 0,
      "outputs": [
        {
          "output_type": "stream",
          "text": [
            "labels:  ['family', 'food', 'goodbye', 'greeting', 'hours', 'interests', 'location', 'name', 'number', 'thanks']\n",
            "words:  [\"'s\", 'a', 'any', 'anyon', 'ar', 'broth', 'bye', 'cal', 'can', 'clos', 'day', 'do', 'eat', 'fath', 'favorit', 'food', 'from', 'good', 'goodby', 'hav', 'hello', 'help', 'hi', 'hour', 'how', 'i', 'interest', 'is', 'lat', 'loc', \"n't\", 'nam', 'numb', 'op', 'see', 'sibl', 'subject', 'thank', 'that', 'ther', 'what', 'when', 'wher', 'who', 'why', 'wil', 'work', 'yo', 'you']\n"
          ],
          "name": "stdout"
        }
      ]
    },
    {
      "cell_type": "code",
      "metadata": {
        "id": "GG77dxHwKFXD",
        "colab_type": "code",
        "outputId": "7a98f7a7-f778-45b6-dc7f-82413992e04e",
        "colab": {
          "base_uri": "https://localhost:8080/",
          "height": 74
        }
      },
      "source": [
        "features = []\n",
        "target = []\n",
        "\n",
        "for i, doc in enumerate(docs_x):\n",
        "  sub_features = []\n",
        "  wrds = [stemmer.stem(w) for w in doc]\n",
        "  for w in words:\n",
        "    if w in wrds:\n",
        "      sub_features.append(1)\n",
        "    else:\n",
        "      sub_features.append(0)\n",
        "  features.append(sub_features)\n",
        "  \n",
        "  col = labels.index(docs_y[i])\n",
        "  target.append(col)\n",
        "\n",
        "print('features: ', features)\n",
        "print('target: ', target)\n"
      ],
      "execution_count": 0,
      "outputs": [
        {
          "output_type": "stream",
          "text": [
            "features:  [[0, 0, 0, 0, 0, 0, 0, 0, 0, 0, 0, 0, 0, 0, 0, 0, 0, 0, 0, 0, 0, 0, 1, 0, 0, 0, 0, 0, 0, 0, 0, 0, 0, 0, 0, 0, 0, 0, 0, 0, 0, 0, 0, 0, 0, 0, 0, 0, 0], [0, 0, 0, 0, 1, 0, 0, 0, 0, 0, 0, 0, 0, 0, 0, 0, 0, 0, 0, 0, 0, 0, 0, 0, 1, 0, 0, 0, 0, 0, 0, 0, 0, 0, 0, 0, 0, 0, 0, 0, 0, 0, 0, 0, 0, 0, 0, 0, 1], [0, 0, 0, 1, 0, 0, 0, 0, 0, 0, 0, 0, 0, 0, 0, 0, 0, 0, 0, 0, 0, 0, 0, 0, 0, 0, 0, 1, 0, 0, 0, 0, 0, 0, 0, 0, 0, 0, 0, 1, 0, 0, 0, 0, 0, 0, 0, 0, 0], [0, 0, 0, 0, 0, 0, 0, 0, 0, 0, 0, 0, 0, 0, 0, 0, 0, 0, 0, 0, 1, 0, 0, 0, 0, 0, 0, 0, 0, 0, 0, 0, 0, 0, 0, 0, 0, 0, 0, 0, 0, 0, 0, 0, 0, 0, 0, 0, 0], [0, 0, 0, 0, 0, 0, 0, 0, 0, 0, 1, 0, 0, 0, 0, 0, 0, 1, 0, 0, 0, 0, 0, 0, 0, 0, 0, 0, 0, 0, 0, 0, 0, 0, 0, 0, 0, 0, 0, 0, 0, 0, 0, 0, 0, 0, 0, 0, 0], [0, 0, 0, 0, 0, 0, 1, 0, 0, 0, 0, 0, 0, 0, 0, 0, 0, 0, 0, 0, 0, 0, 0, 0, 0, 0, 0, 0, 0, 0, 0, 0, 0, 0, 0, 0, 0, 0, 0, 0, 0, 0, 0, 0, 0, 0, 0, 0, 0], [0, 0, 0, 0, 0, 0, 0, 0, 0, 0, 0, 0, 0, 0, 0, 0, 0, 0, 0, 0, 0, 0, 0, 0, 0, 0, 0, 0, 1, 0, 0, 0, 0, 0, 1, 0, 0, 0, 0, 0, 0, 0, 0, 0, 0, 0, 0, 0, 1], [0, 0, 0, 0, 0, 0, 0, 0, 0, 0, 0, 0, 0, 0, 0, 0, 0, 0, 1, 0, 0, 0, 0, 0, 0, 0, 0, 0, 0, 0, 0, 0, 0, 0, 0, 0, 0, 0, 0, 0, 0, 0, 0, 0, 0, 0, 0, 0, 0], [0, 0, 0, 0, 0, 0, 0, 0, 0, 0, 0, 0, 0, 0, 0, 0, 0, 0, 0, 0, 0, 0, 0, 0, 0, 0, 0, 0, 0, 0, 0, 0, 0, 0, 0, 0, 0, 1, 0, 0, 0, 0, 0, 0, 0, 0, 0, 0, 0], [0, 0, 0, 0, 0, 0, 0, 0, 0, 0, 0, 0, 0, 0, 0, 0, 0, 0, 0, 0, 0, 0, 0, 0, 0, 0, 0, 0, 0, 0, 0, 0, 0, 0, 0, 0, 0, 1, 0, 0, 0, 0, 0, 0, 0, 0, 0, 0, 1], [1, 0, 0, 0, 0, 0, 0, 0, 0, 0, 0, 0, 0, 0, 0, 0, 0, 0, 0, 0, 0, 1, 0, 0, 0, 0, 0, 0, 0, 0, 0, 0, 0, 0, 0, 0, 0, 0, 1, 0, 0, 0, 0, 0, 0, 0, 0, 0, 0], [0, 0, 0, 0, 1, 0, 0, 0, 0, 0, 0, 0, 0, 0, 0, 0, 0, 0, 0, 0, 0, 0, 0, 1, 0, 0, 0, 0, 0, 0, 0, 0, 0, 1, 0, 0, 0, 0, 0, 0, 1, 0, 0, 0, 0, 0, 0, 0, 1], [0, 0, 0, 0, 0, 0, 0, 0, 0, 0, 0, 0, 0, 0, 0, 0, 0, 0, 0, 0, 0, 0, 0, 1, 0, 0, 0, 1, 0, 0, 0, 0, 0, 0, 0, 0, 0, 0, 0, 0, 1, 0, 0, 0, 0, 0, 1, 1, 0], [0, 0, 0, 0, 0, 0, 0, 0, 0, 1, 0, 0, 0, 0, 0, 0, 0, 0, 0, 0, 0, 0, 0, 0, 0, 0, 0, 0, 0, 0, 0, 0, 0, 0, 0, 0, 0, 0, 0, 0, 0, 1, 0, 0, 0, 1, 0, 0, 1], [0, 0, 0, 0, 0, 0, 0, 0, 0, 0, 0, 0, 0, 0, 0, 0, 0, 0, 0, 0, 0, 0, 0, 0, 0, 0, 0, 1, 0, 0, 0, 1, 0, 0, 0, 0, 0, 0, 0, 0, 1, 0, 0, 0, 0, 0, 0, 1, 0], [0, 0, 0, 0, 0, 0, 0, 1, 1, 0, 0, 0, 0, 0, 0, 0, 0, 0, 0, 0, 0, 0, 0, 0, 1, 1, 0, 0, 0, 0, 0, 0, 0, 0, 0, 0, 0, 0, 0, 0, 0, 0, 0, 0, 0, 0, 0, 0, 1], [0, 1, 0, 0, 0, 0, 0, 0, 0, 0, 0, 1, 0, 0, 0, 0, 0, 0, 0, 1, 0, 0, 0, 0, 0, 0, 0, 0, 0, 0, 0, 1, 0, 0, 0, 0, 0, 0, 0, 0, 0, 0, 0, 0, 0, 0, 0, 0, 1], [0, 0, 0, 0, 1, 0, 0, 0, 0, 0, 0, 0, 0, 0, 0, 0, 0, 0, 0, 0, 0, 0, 0, 0, 0, 0, 0, 0, 0, 0, 0, 0, 0, 0, 0, 0, 0, 0, 0, 0, 0, 0, 0, 1, 0, 0, 0, 0, 1], [0, 0, 0, 0, 0, 0, 0, 0, 0, 0, 0, 1, 1, 0, 0, 0, 0, 0, 0, 0, 0, 0, 0, 0, 0, 0, 0, 0, 0, 0, 0, 0, 0, 0, 0, 0, 0, 0, 0, 0, 1, 0, 0, 0, 0, 0, 0, 0, 1], [0, 0, 0, 0, 0, 0, 0, 0, 0, 0, 0, 1, 1, 0, 0, 1, 0, 0, 0, 0, 0, 0, 0, 0, 0, 0, 0, 0, 0, 0, 0, 0, 0, 0, 0, 0, 0, 0, 0, 0, 0, 0, 0, 0, 0, 0, 0, 0, 1], [0, 0, 0, 0, 0, 0, 0, 0, 0, 0, 0, 1, 1, 0, 0, 0, 0, 0, 0, 0, 0, 0, 0, 0, 0, 0, 0, 0, 0, 0, 1, 0, 0, 0, 0, 0, 0, 0, 0, 0, 0, 0, 0, 0, 1, 0, 0, 0, 1], [0, 0, 0, 0, 1, 0, 0, 0, 0, 0, 0, 0, 0, 0, 0, 0, 0, 0, 0, 0, 0, 0, 0, 0, 0, 0, 1, 0, 0, 0, 0, 0, 0, 0, 0, 0, 0, 0, 0, 0, 1, 0, 0, 0, 0, 0, 0, 1, 0], [0, 0, 0, 0, 1, 0, 0, 0, 0, 0, 0, 0, 0, 0, 1, 0, 0, 0, 0, 0, 0, 0, 0, 0, 0, 0, 0, 0, 0, 0, 0, 0, 0, 0, 0, 0, 1, 0, 0, 0, 1, 0, 0, 0, 0, 0, 0, 1, 0], [0, 0, 0, 0, 1, 0, 0, 0, 0, 0, 0, 0, 0, 0, 0, 0, 0, 0, 0, 0, 0, 0, 0, 0, 0, 0, 1, 0, 0, 0, 0, 0, 0, 0, 0, 0, 0, 0, 0, 0, 1, 0, 0, 0, 0, 0, 0, 1, 0], [0, 0, 0, 0, 0, 0, 0, 0, 0, 0, 0, 0, 0, 0, 0, 0, 0, 0, 0, 0, 0, 0, 0, 0, 0, 0, 0, 1, 0, 0, 0, 0, 1, 0, 0, 0, 0, 0, 0, 0, 1, 0, 0, 0, 0, 0, 0, 1, 0], [0, 0, 0, 0, 0, 0, 0, 0, 0, 0, 0, 0, 0, 0, 0, 0, 0, 0, 0, 0, 0, 0, 0, 0, 0, 0, 0, 1, 0, 0, 0, 0, 1, 0, 0, 0, 0, 0, 0, 0, 1, 0, 0, 0, 0, 0, 0, 1, 0], [0, 0, 0, 0, 0, 0, 0, 0, 0, 0, 0, 0, 0, 0, 1, 0, 0, 0, 0, 0, 0, 0, 0, 0, 0, 0, 0, 1, 0, 0, 0, 0, 1, 0, 0, 0, 0, 0, 0, 0, 1, 0, 0, 0, 0, 0, 0, 1, 0], [0, 0, 0, 0, 0, 0, 0, 0, 0, 0, 0, 0, 0, 1, 0, 0, 0, 0, 0, 0, 0, 0, 0, 0, 0, 0, 0, 1, 0, 0, 0, 0, 0, 0, 0, 0, 0, 0, 0, 0, 1, 0, 0, 0, 0, 0, 0, 1, 0], [0, 0, 1, 0, 0, 0, 0, 0, 0, 0, 0, 1, 0, 0, 0, 0, 0, 0, 0, 1, 0, 0, 0, 0, 0, 0, 0, 0, 0, 0, 0, 0, 0, 0, 0, 1, 0, 0, 0, 0, 0, 0, 0, 0, 0, 0, 0, 0, 1], [0, 0, 0, 0, 0, 1, 0, 0, 0, 0, 0, 0, 0, 0, 0, 0, 0, 0, 0, 0, 0, 0, 0, 0, 0, 0, 0, 1, 0, 0, 0, 0, 0, 0, 0, 0, 0, 0, 0, 0, 0, 0, 0, 1, 0, 0, 0, 1, 0], [0, 0, 0, 0, 1, 0, 0, 0, 0, 0, 0, 0, 0, 0, 0, 0, 0, 0, 0, 0, 0, 0, 0, 0, 0, 0, 0, 0, 0, 0, 0, 0, 0, 0, 0, 0, 0, 0, 0, 0, 0, 0, 1, 0, 0, 0, 0, 0, 1], [0, 0, 0, 0, 0, 0, 0, 0, 0, 0, 0, 0, 0, 0, 0, 0, 0, 0, 0, 0, 0, 0, 0, 0, 0, 0, 0, 1, 0, 1, 0, 0, 0, 0, 0, 0, 0, 0, 0, 0, 1, 0, 0, 0, 0, 0, 0, 1, 0], [0, 0, 0, 0, 1, 0, 0, 0, 0, 0, 0, 0, 0, 0, 0, 0, 1, 0, 0, 0, 0, 0, 0, 0, 0, 0, 0, 0, 0, 0, 0, 0, 0, 0, 0, 0, 0, 0, 0, 0, 0, 0, 1, 0, 0, 0, 0, 0, 1]]\n",
            "target:  [3, 3, 3, 3, 3, 2, 2, 2, 9, 9, 9, 4, 4, 4, 7, 7, 7, 7, 1, 1, 1, 5, 5, 5, 8, 8, 8, 0, 0, 0, 6, 6, 6]\n"
          ],
          "name": "stdout"
        }
      ]
    },
    {
      "cell_type": "code",
      "metadata": {
        "id": "b99DqaGOKNxx",
        "colab_type": "code",
        "colab": {}
      },
      "source": [
        "import torch\n",
        "import torch.nn.functional as F\n",
        "import torch.nn as nn"
      ],
      "execution_count": 0,
      "outputs": []
    },
    {
      "cell_type": "code",
      "metadata": {
        "id": "88DwXLs5VDBj",
        "colab_type": "code",
        "outputId": "dbcab318-9a36-4285-ed79-d3600af34d6b",
        "colab": {
          "base_uri": "https://localhost:8080/",
          "height": 163
        }
      },
      "source": [
        "features = torch.from_numpy(np.array(features)).type(torch.FloatTensor)\n",
        "target = torch.from_numpy(np.array(target))\n",
        "print(features.size(), target.shape)\n",
        "print(features)"
      ],
      "execution_count": 0,
      "outputs": [
        {
          "output_type": "stream",
          "text": [
            "torch.Size([33, 49]) torch.Size([33])\n",
            "tensor([[0., 0., 0.,  ..., 0., 0., 0.],\n",
            "        [0., 0., 0.,  ..., 0., 0., 1.],\n",
            "        [0., 0., 0.,  ..., 0., 0., 0.],\n",
            "        ...,\n",
            "        [0., 0., 0.,  ..., 0., 0., 1.],\n",
            "        [0., 0., 0.,  ..., 0., 1., 0.],\n",
            "        [0., 0., 0.,  ..., 0., 0., 1.]])\n"
          ],
          "name": "stdout"
        }
      ]
    },
    {
      "cell_type": "markdown",
      "metadata": {
        "id": "8lVYmSjELRdD",
        "colab_type": "text"
      },
      "source": [
        "# 2. Define Model"
      ]
    },
    {
      "cell_type": "code",
      "metadata": {
        "id": "YoJAWFleVOVB",
        "colab_type": "code",
        "colab": {}
      },
      "source": [
        "class DNNModel(nn.Module):\n",
        "  def __init__(self, inp_dim, out_dim):\n",
        "    super().__init__()\n",
        "    self.fc1 = nn.Linear(inp_dim, 10)\n",
        "    self.fc2 = nn.Linear(10, 10)\n",
        "    self.fc3 = nn.Linear(10, out_features=out_dim)\n",
        "  def forward(self, inp):\n",
        "    out = self.fc1(inp)\n",
        "    out = F.relu(out)\n",
        "    out = self.fc2(out)\n",
        "    out = F.tanh(out)\n",
        "    out = self.fc2(out)\n",
        "    out = F.elu(out)\n",
        "    return out"
      ],
      "execution_count": 0,
      "outputs": []
    },
    {
      "cell_type": "code",
      "metadata": {
        "id": "5QR-64JwWv9Z",
        "colab_type": "code",
        "colab": {}
      },
      "source": [
        "model = DNNModel(features.size()[1], 6)\n",
        "optimizer = torch.optim.SGD(model.parameters(), lr = 0.01)\n",
        "loss_fn = nn.CrossEntropyLoss()"
      ],
      "execution_count": 0,
      "outputs": []
    },
    {
      "cell_type": "code",
      "metadata": {
        "id": "Lq1UslTrXhjQ",
        "colab_type": "code",
        "outputId": "bd5e5c87-0e4c-430a-b408-ca153b5f4d97",
        "colab": {
          "base_uri": "https://localhost:8080/",
          "height": 381
        }
      },
      "source": [
        "model.train()\n",
        "for i in range(4000):\n",
        "  predicted = model(features)\n",
        "\n",
        "  optimizer.zero_grad()\n",
        "  loss = loss_fn(predicted, target)\n",
        "  loss.backward()\n",
        "  optimizer.step()\n",
        "\n",
        "  if(i%200 == 0):\n",
        "    prediction = torch.max(predicted, 1)[1]\n",
        "    correct = (prediction == target).sum()\n",
        "    accuracy = correct/float(target.size()[0])\n",
        "    print(\"iter = {}, loss = {}, accuracy = {}\".format(i, loss, accuracy))"
      ],
      "execution_count": 0,
      "outputs": [
        {
          "output_type": "stream",
          "text": [
            "iter = 0, loss = 2.315319299697876, accuracy = 0.09090909361839294\n",
            "iter = 200, loss = 2.29306697845459, accuracy = 0.1515151560306549\n",
            "iter = 400, loss = 2.2760398387908936, accuracy = 0.1515151560306549\n",
            "iter = 600, loss = 2.253408908843994, accuracy = 0.1515151560306549\n",
            "iter = 800, loss = 2.221125841140747, accuracy = 0.1818181872367859\n",
            "iter = 1000, loss = 2.1713104248046875, accuracy = 0.3030303120613098\n",
            "iter = 1200, loss = 2.1027915477752686, accuracy = 0.3030303120613098\n",
            "iter = 1400, loss = 2.0156517028808594, accuracy = 0.3636363744735718\n",
            "iter = 1600, loss = 1.905890703201294, accuracy = 0.3636363744735718\n",
            "iter = 1800, loss = 1.7683182954788208, accuracy = 0.3636363744735718\n",
            "iter = 2000, loss = 1.6070927381515503, accuracy = 0.42424243688583374\n",
            "iter = 2200, loss = 1.430072546005249, accuracy = 0.4545454680919647\n",
            "iter = 2400, loss = 1.2333738803863525, accuracy = 0.6666666865348816\n",
            "iter = 2600, loss = 1.0252197980880737, accuracy = 0.9090909361839294\n",
            "iter = 2800, loss = 0.8285780549049377, accuracy = 0.9696969985961914\n",
            "iter = 3000, loss = 0.6596795320510864, accuracy = 0.939393937587738\n",
            "iter = 3200, loss = 0.523030698299408, accuracy = 0.939393937587738\n",
            "iter = 3400, loss = 0.4227864146232605, accuracy = 1.0\n",
            "iter = 3600, loss = 0.34903839230537415, accuracy = 1.0\n",
            "iter = 3800, loss = 0.2910541594028473, accuracy = 1.0\n"
          ],
          "name": "stdout"
        }
      ]
    },
    {
      "cell_type": "code",
      "metadata": {
        "id": "b4WKLHu3gqtT",
        "colab_type": "code",
        "outputId": "a8f6f1f4-3df5-4ec4-f3a4-4076197bc38b",
        "colab": {
          "base_uri": "https://localhost:8080/",
          "height": 72
        }
      },
      "source": [
        "test = bag_of_words('thank you', words)\n",
        "print(test)"
      ],
      "execution_count": 0,
      "outputs": [
        {
          "output_type": "stream",
          "text": [
            "tensor([0., 0., 0., 0., 0., 0., 0., 0., 0., 0., 0., 0., 0., 0., 0., 0., 0., 0.,\n",
            "        0., 0., 0., 0., 0., 0., 0., 0., 0., 0., 0., 0., 0., 0., 0., 0., 0., 0.,\n",
            "        0., 1., 0., 0., 0., 0., 0., 0., 0., 0., 0., 0., 1.])\n"
          ],
          "name": "stdout"
        }
      ]
    },
    {
      "cell_type": "code",
      "metadata": {
        "id": "y_l9q0ngjCI-",
        "colab_type": "code",
        "outputId": "387811b4-8241-4137-9f59-577abb8d74f5",
        "colab": {
          "base_uri": "https://localhost:8080/",
          "height": 54
        }
      },
      "source": [
        "print(F.softmax(model(test)))"
      ],
      "execution_count": 0,
      "outputs": [
        {
          "output_type": "stream",
          "text": [
            "tensor([0.0045, 0.3205, 0.0067, 0.0116, 0.0043, 0.0592, 0.0027, 0.0226, 0.0026,\n",
            "        0.5653], grad_fn=<SoftmaxBackward>)\n"
          ],
          "name": "stdout"
        }
      ]
    },
    {
      "cell_type": "code",
      "metadata": {
        "id": "GO-_265Sgu9p",
        "colab_type": "code",
        "colab": {}
      },
      "source": [
        "def chat():\n",
        "  print('Enter chat. Press q to quit')\n",
        "  while True:\n",
        "    print('You: ', end=\"\")\n",
        "    x = input()\n",
        "    if(x == 'q'):\n",
        "      break\n",
        "\n",
        "    output = model(bag_of_words(x, words))\n",
        "    out_max_point = torch.max(F.softmax(output), 0)[0].data\n",
        "    print('Bot: ', end=\"\")\n",
        "    if( out_max_point < 0.5):\n",
        "      print(\"Sorry .I don't understand. Ask another question !\")\n",
        "    else:\n",
        "      response_index = torch.max(output, 0)[1].data\n",
        "      response = labels[response_index]\n",
        "      for i, res in enumerate(data[\"intents\"]):\n",
        "          if res['tag'] == response:\n",
        "            responses = res['responses']\n",
        "      print(random.choice(responses))"
      ],
      "execution_count": 0,
      "outputs": []
    },
    {
      "cell_type": "code",
      "metadata": {
        "id": "wtRY7lPDhMyI",
        "colab_type": "code",
        "outputId": "09c20468-226e-4f11-c94e-3ec79638ff29",
        "colab": {
          "base_uri": "https://localhost:8080/",
          "height": 381
        }
      },
      "source": [
        "chat()"
      ],
      "execution_count": 0,
      "outputs": [
        {
          "output_type": "stream",
          "text": [
            "Enter chat. Press q to quit\n",
            "You: hi\n",
            "Bot: Hi there, how can I help?\n",
            "You: what is your name ?\n",
            "Bot: SimpleBot !\n",
            "You: what is your working hour ?\n",
            "Bot: I am always here to serve you\n",
            "You: oh, thank you a lot !\n",
            "Bot: Sorry .I don't understand. Ask another question !\n",
            "You: thank you \n",
            "Bot: Any time!\n",
            "You: what do you eat ?\n",
            "Bot: I consume RAM, and binary digits.\n",
            "You: where is your location ?\n",
            "Bot: Internet is my home\n",
            "You: thanks\n",
            "Bot: Happy to help!\n",
            "You: bye\n",
            "Bot: See you later, thanks for visiting\n",
            "You: q\n"
          ],
          "name": "stdout"
        }
      ]
    }
  ]
}